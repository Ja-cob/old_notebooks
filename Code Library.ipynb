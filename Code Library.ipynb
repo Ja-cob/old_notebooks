{
 "cells": [
  {
   "cell_type": "markdown",
   "id": "217e842e-c4f4-45f2-8cf7-58624080403c",
   "metadata": {},
   "source": [
    "# A collection of code snippets for reference purposes"
   ]
  },
  {
   "cell_type": "markdown",
   "id": "facff6c4-b670-4782-8246-88fc9a67efc3",
   "metadata": {},
   "source": [
    "### Basic Imports of tools I like"
   ]
  },
  {
   "cell_type": "code",
   "execution_count": 2,
   "id": "9ee2f8f1-5aef-4920-91a6-e5eaf1e1d1d3",
   "metadata": {},
   "outputs": [],
   "source": [
    "# import pandas as pd\n",
    "# import numpy as np\n",
    "# import matplotlib.pyplot as plt\n",
    "# import seaborn as sns\n",
    "# import plotly.express as px\n",
    "\n",
    "# %matplotlib inline\n"
   ]
  },
  {
   "cell_type": "markdown",
   "id": "adf34def-050a-4c27-9963-0f6dfed6a434",
   "metadata": {},
   "source": [
    "### Loop to fill numeric fields with median"
   ]
  },
  {
   "cell_type": "code",
   "execution_count": 7,
   "id": "10dbb4e7-c62e-406d-ba1a-08e14fb88e73",
   "metadata": {},
   "outputs": [],
   "source": [
    "# for label, content in df_tmp.items():\n",
    "#     if pd.api.types.is_numeric_dtype(content):\n",
    "#         if pd.isnull(content).sum():\n",
    "#             #add a binary column to tell is was missing data\n",
    "#             df_tmp[label+\"_is_missing\"] = pd.isnull(content)\n",
    "#             #fill with median\n",
    "#             df_tmp[label] = content.fillna(content.median())"
   ]
  },
  {
   "cell_type": "markdown",
   "id": "cf03ed7c-6cf8-4395-bcbe-926e027a6d1c",
   "metadata": {},
   "source": [
    "### Correlation Matrix"
   ]
  },
  {
   "cell_type": "code",
   "execution_count": 9,
   "id": "f3b2ac27-9614-4f99-aa91-c2d6f6a3d972",
   "metadata": {},
   "outputs": [],
   "source": [
    "\n",
    "# corr_matrix = df_tmp.corr()\n",
    "# plt.figure(figsize=(15, 10))\n",
    "# sns.heatmap(corr_matrix, \n",
    "#             annot=True, \n",
    "#             linewidths=0.5, \n",
    "#             fmt= \".2f\", \n",
    "#             cmap=\"RdYlGn\");"
   ]
  },
  {
   "cell_type": "markdown",
   "id": "136a1e89-9020-4a1b-948e-3de5e09833ce",
   "metadata": {},
   "source": [
    "### Feature Importance"
   ]
  },
  {
   "cell_type": "code",
   "execution_count": 10,
   "id": "bf76d8ec-92f6-4a4b-8c76-8343cbb3a789",
   "metadata": {},
   "outputs": [],
   "source": [
    "# def plot_features(columns, importances, n=20):\n",
    "#     df = (pd.DataFrame({\"features\": columns,\n",
    "#                         \"feature_importance\": importances})\n",
    "#           .sort_values(\"feature_importance\", ascending=False)\n",
    "#           .reset_index(drop=True))\n",
    "    \n",
    "#     sns.barplot(x=\"feature_importance\",\n",
    "#                 y=\"features\",\n",
    "#                 data=df[:n],\n",
    "#                 orient=\"h\")\n",
    "# plot_features(df_tmp.columns, model.feature_importances_)"
   ]
  },
  {
   "cell_type": "code",
   "execution_count": null,
   "id": "950af1b0-49b4-44a4-a02b-0e1c55c11c9e",
   "metadata": {},
   "outputs": [],
   "source": []
  }
 ],
 "metadata": {
  "kernelspec": {
   "display_name": "Python 3 (ipykernel)",
   "language": "python",
   "name": "python3"
  },
  "language_info": {
   "codemirror_mode": {
    "name": "ipython",
    "version": 3
   },
   "file_extension": ".py",
   "mimetype": "text/x-python",
   "name": "python",
   "nbconvert_exporter": "python",
   "pygments_lexer": "ipython3",
   "version": "3.9.7"
  }
 },
 "nbformat": 4,
 "nbformat_minor": 5
}
